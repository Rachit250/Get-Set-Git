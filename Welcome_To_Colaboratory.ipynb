{
  "cells": [
    {
      "cell_type": "markdown",
      "metadata": {
        "id": "view-in-github",
        "colab_type": "text"
      },
      "source": [
        "<a href=\"https://colab.research.google.com/github/Rachit250/Get-Set-Git/blob/main/Welcome_To_Colaboratory.ipynb\" target=\"_parent\"><img src=\"https://colab.research.google.com/assets/colab-badge.svg\" alt=\"Open In Colab\"/></a>"
      ]
    },
    {
      "cell_type": "code",
      "source": [
        "#Determine if no is positive or negative\n",
        "number = int(input(\"Enter a number:\"))\n",
        "\n",
        "if number >= 0:\n",
        "    print(\"the number is positive\")\n",
        "else:\n",
        "    print(\"the number is negative\")"
      ],
      "metadata": {
        "colab": {
          "base_uri": "https://localhost:8080/"
        },
        "id": "AOK82j6PtHJ9",
        "outputId": "6ee29f24-210a-43ef-fd5d-ad664213be78"
      },
      "execution_count": 2,
      "outputs": [
        {
          "output_type": "stream",
          "name": "stdout",
          "text": [
            "Enter a number:-8\n",
            "the number is negative\n"
          ]
        }
      ]
    },
    {
      "cell_type": "code",
      "source": [
        "# Tell if the number is even or odd\n",
        "number = int(input(\"Enter a positive number:\"))\n",
        "if number % 2 == 0:\n",
        "    print(\"It is even\")\n",
        "else:\n",
        "    print(\"It is odd\")"
      ],
      "metadata": {
        "colab": {
          "base_uri": "https://localhost:8080/"
        },
        "id": "oTyFPekt12qS",
        "outputId": "3abc99fc-2826-4f02-f577-08a97aa4bac0"
      },
      "execution_count": 4,
      "outputs": [
        {
          "output_type": "stream",
          "name": "stdout",
          "text": [
            "Enter a positive number:68\n",
            "It is even\n"
          ]
        }
      ]
    },
    {
      "cell_type": "code",
      "source": [
        "cost_price = int(input(\"Enter the cost price:\"))\n",
        "selling_price = int(input(\"Enter the selling price:\"))\n",
        "#If selling price is more than cost price --> profit\n",
        "if selling_price > cost_price:\n",
        "      profit = selling_price-cost_price\n",
        "      print(\"We have made profit of\", profit)\n",
        "#If SP is less than CP --> loss\n",
        "elif selling_price < cost_price:\n",
        "      loss = cost_price - selling_price\n",
        "      print(\"We have incurred loss of\" , loss)\n",
        "\n"
      ],
      "metadata": {
        "colab": {
          "base_uri": "https://localhost:8080/"
        },
        "id": "F-fO_kaQ4CxJ",
        "outputId": "18ef6996-8ec3-4783-dfae-2267231514f8"
      },
      "execution_count": 13,
      "outputs": [
        {
          "output_type": "stream",
          "name": "stdout",
          "text": [
            "Enter the cost price:50\n",
            "Enter the selling price:80\n",
            "We have made profit of 30\n"
          ]
        }
      ]
    },
    {
      "cell_type": "code",
      "source": [
        "marks = int(input(\"Enter the marks:\"))\n",
        "\n",
        "# if marks are betweem 81 and 100\n",
        "if   marks > 80:\n",
        "    print(\"Very good\")\n",
        "# if marks are between 61 and 80\n",
        "elif marks > 60:\n",
        "    print(\"Good\")\n",
        "# if marks are between 41 and 60\n",
        "elif marks > 40:\n",
        "    print(\"Average\")\n",
        "# if marks are less than or equal to 40\n",
        "else:\n",
        "    print(\"Fail\")"
      ],
      "metadata": {
        "colab": {
          "base_uri": "https://localhost:8080/"
        },
        "id": "XG8dfpFPiYp4",
        "outputId": "dcbe49a1-69dc-4c48-eb28-79bc482d6ed0"
      },
      "execution_count": 18,
      "outputs": [
        {
          "output_type": "stream",
          "name": "stdout",
          "text": [
            "Enter the marks:50\n",
            "Average\n"
          ]
        }
      ]
    },
    {
      "cell_type": "code",
      "source": [
        "eng_marks = int(input(\"Enter marks in english: \"))\n",
        "math_marks = int(input(\"Enter marks in math: \"))\n",
        "\n",
        "# if both are more than 80 , print A grade\n",
        "if eng_marks > 80 and math_marks > 80:\n",
        "    print(\"A grade\")\n",
        "# if either of marks are more than 80 , print B grade\n",
        "elif eng_marks > 80 or math_marks > 80:\n",
        "    print(\"B grade\")\n",
        "#if neither of marks are more than 80\n",
        "else:\n",
        "    print(\"C grade\")"
      ],
      "metadata": {
        "colab": {
          "base_uri": "https://localhost:8080/"
        },
        "id": "dbHlTGs2kBOP",
        "outputId": "ae4ae995-98bb-4995-8c37-30a5d1373ebb"
      },
      "execution_count": 2,
      "outputs": [
        {
          "output_type": "stream",
          "name": "stdout",
          "text": [
            "Enter marks in english: 50\n",
            "Enter marks in math: 80\n",
            "C grade\n"
          ]
        }
      ]
    },
    {
      "cell_type": "code",
      "source": [
        "#WAP taking positive integer input and tell if it is four digit number or not\n",
        "number = int(input(\"Enter a number:\"))\n",
        "\n",
        "if number>=1000 and number <= 9999:\n",
        "    print(\"It is a 4 digit number\")\n",
        "else:\n",
        "    print(\"Not a 4 digit number\")"
      ],
      "metadata": {
        "colab": {
          "base_uri": "https://localhost:8080/"
        },
        "id": "P4ZulDHi_15p",
        "outputId": "fb7c06ab-ae47-40f1-e45f-819bdeb164d1"
      },
      "execution_count": 5,
      "outputs": [
        {
          "output_type": "stream",
          "name": "stdout",
          "text": [
            "Enter a number:99999\n",
            "Not a 4 digit number\n"
          ]
        }
      ]
    },
    {
      "cell_type": "code",
      "source": [
        "#Take 3 positive integers input and print greatest of them\n",
        "n1 = int(input(\"Enter number1:\"))\n",
        "n2 = int(input(\"Enter number2:\"))\n",
        "n3 = int(input(\"Enter number3:\"))\n",
        "\n",
        "# if n1 is the greatest\n",
        "if n1>n2 and n1>n3:\n",
        "    print(n1,\"is the greatest number\")\n",
        "# if n2 is the greatest\n",
        "elif n2 > n1 and n2 > n3:\n",
        "    print(n2, \"is the greatest number\")\n",
        "# if n3 is the greatest\n",
        "else:\n",
        "    print(n3,\"is the greatest number \")\n",
        ""
      ],
      "metadata": {
        "colab": {
          "base_uri": "https://localhost:8080/"
        },
        "id": "_FevJ-sYCVx8",
        "outputId": "2a58cd8d-dde4-45b3-8ed2-153d68002438"
      },
      "execution_count": 6,
      "outputs": [
        {
          "output_type": "stream",
          "name": "stdout",
          "text": [
            "Enter number1:3\n",
            "Enter number2:5\n",
            "Enter number3:8\n",
            "8 is the greatest number \n"
          ]
        }
      ]
    },
    {
      "cell_type": "code",
      "source": [],
      "metadata": {
        "id": "XWQsbL03FrOt"
      },
      "execution_count": null,
      "outputs": []
    }
  ],
  "metadata": {
    "colab": {
      "name": "Welcome To Colaboratory",
      "provenance": [],
      "include_colab_link": true
    },
    "kernelspec": {
      "display_name": "Python 3",
      "name": "python3"
    }
  },
  "nbformat": 4,
  "nbformat_minor": 0
}